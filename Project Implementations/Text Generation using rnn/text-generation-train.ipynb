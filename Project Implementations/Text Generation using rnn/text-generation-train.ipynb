{
 "cells": [
  {
   "cell_type": "markdown",
   "id": "1534e7f4",
   "metadata": {},
   "source": [
    "**Importing modules**"
   ]
  },
  {
   "cell_type": "code",
   "execution_count": 1,
   "id": "d279a3b8",
   "metadata": {
    "execution": {
     "iopub.execute_input": "2025-08-09T08:49:21.779531Z",
     "iopub.status.busy": "2025-08-09T08:49:21.779028Z",
     "iopub.status.idle": "2025-08-09T08:49:25.779964Z",
     "shell.execute_reply": "2025-08-09T08:49:25.779066Z",
     "shell.execute_reply.started": "2025-08-09T08:49:21.779504Z"
    },
    "trusted": true
   },
   "outputs": [],
   "source": [
    "from tensorflow.keras.preprocessing.text import Tokenizer #type:ignore\n",
    "from tensorflow.keras.preprocessing.sequence import pad_sequences #type: ignore \n",
    "from tensorflow.keras.callbacks import EarlyStopping # type: ignore\n",
    "import tensorflow.keras.utils as ku \n",
    "import pandas as pd \n",
    "import numpy as np\n",
    "import string\n",
    "# from model import create_model #type: ignore\n",
    "import warnings\n",
    "import pickle\n",
    "warnings.filterwarnings('ignore')\n"
   ]
  },
  {
   "cell_type": "markdown",
   "id": "7685f9c7",
   "metadata": {},
   "source": [
    "**Loading dataset**"
   ]
  },
  {
   "cell_type": "code",
   "execution_count": 2,
   "id": "d30ac1dd",
   "metadata": {
    "execution": {
     "iopub.execute_input": "2025-08-09T08:49:25.782403Z",
     "iopub.status.busy": "2025-08-09T08:49:25.781525Z",
     "iopub.status.idle": "2025-08-09T08:49:30.534107Z",
     "shell.execute_reply": "2025-08-09T08:49:30.533458Z",
     "shell.execute_reply.started": "2025-08-09T08:49:25.782381Z"
    },
    "trusted": true
   },
   "outputs": [],
   "source": [
    "data=pd.read_csv(\"Data\\india-news-headlines.csv\")\n",
    "data=data['headline_text']\n",
    "\n",
    "headlines=[h for h in data ]"
   ]
  },
  {
   "cell_type": "code",
   "execution_count": 3,
   "id": "bad20c48",
   "metadata": {
    "execution": {
     "iopub.execute_input": "2025-08-09T08:49:30.535022Z",
     "iopub.status.busy": "2025-08-09T08:49:30.534791Z",
     "iopub.status.idle": "2025-08-09T08:49:30.615360Z",
     "shell.execute_reply": "2025-08-09T08:49:30.614422Z",
     "shell.execute_reply.started": "2025-08-09T08:49:30.535004Z"
    },
    "trusted": true
   },
   "outputs": [],
   "source": [
    "def clean_data(text):\n",
    "    text=text.lower()\n",
    "    text=''.join([i for i in text if i not in string.punctuation]) \n",
    "    text=text.encode('utf8').decode('ascii','ignore')\n",
    "    return text "
   ]
  },
  {
   "cell_type": "code",
   "execution_count": 4,
   "id": "198494a4",
   "metadata": {
    "execution": {
     "iopub.execute_input": "2025-08-09T08:49:30.617555Z",
     "iopub.status.busy": "2025-08-09T08:49:30.617277Z",
     "iopub.status.idle": "2025-08-09T08:49:43.992733Z",
     "shell.execute_reply": "2025-08-09T08:49:43.991879Z",
     "shell.execute_reply.started": "2025-08-09T08:49:30.617532Z"
    },
    "trusted": true
   },
   "outputs": [
    {
     "data": {
      "text/plain": [
       "3876557"
      ]
     },
     "execution_count": 4,
     "metadata": {},
     "output_type": "execute_result"
    }
   ],
   "source": [
    "text=[clean_data(text) for text in headlines]\n",
    "len(text)"
   ]
  },
  {
   "cell_type": "markdown",
   "id": "8655dc95",
   "metadata": {},
   "source": [
    "**Tokenizing and creating a sequence of tokens**"
   ]
  },
  {
   "cell_type": "code",
   "execution_count": 5,
   "id": "ab5f8097",
   "metadata": {
    "execution": {
     "iopub.execute_input": "2025-08-09T08:49:43.994165Z",
     "iopub.status.busy": "2025-08-09T08:49:43.993570Z",
     "iopub.status.idle": "2025-08-09T08:49:44.069232Z",
     "shell.execute_reply": "2025-08-09T08:49:44.068288Z",
     "shell.execute_reply.started": "2025-08-09T08:49:43.994142Z"
    },
    "trusted": true
   },
   "outputs": [],
   "source": [
    "tokenizer=Tokenizer() \n",
    "def generate_sequences(text):\n",
    "    \n",
    "    # Tokenizing the text\n",
    "    tokenizer.fit_on_texts(text)\n",
    "    total_words=len(tokenizer.word_index)+1\n",
    "    \n",
    "    # Generating sequences \n",
    "    sequences=[]\n",
    "    for l in text:\n",
    "        token_list=tokenizer.texts_to_sequences([l])[0]\n",
    "        for i in range(1,len(token_list)):\n",
    "            n_gram_sequence=token_list[:i+1]\n",
    "            sequences.append(n_gram_sequence)\n",
    "    \n",
    "    \n",
    "    max_sequence_len=max([len(x) for x in sequences])\n",
    "    sequences=np.array(pad_sequences(sequences,maxlen=max_sequence_len,padding='pre')) \n",
    "    \n",
    "    predictors,label=sequences[:,:-1],sequences[:,-1]\n",
    "    label=ku.to_categorical(label,num_classes=total_words)\n",
    "    \n",
    "    return predictors,label,max_sequence_len,total_words\n",
    "    "
   ]
  },
  {
   "cell_type": "code",
   "execution_count": 6,
   "id": "d503720f",
   "metadata": {},
   "outputs": [],
   "source": [
    "with open(\"tokenizer.pkl\", \"wb\") as f:\n",
    "    pickle.dump(tokenizer, f)"
   ]
  },
  {
   "cell_type": "code",
   "execution_count": 7,
   "id": "47a92faa",
   "metadata": {
    "execution": {
     "iopub.execute_input": "2025-08-09T08:49:44.070351Z",
     "iopub.status.busy": "2025-08-09T08:49:44.070095Z",
     "iopub.status.idle": "2025-08-09T08:49:45.126277Z",
     "shell.execute_reply": "2025-08-09T08:49:45.125537Z",
     "shell.execute_reply.started": "2025-08-09T08:49:44.070333Z"
    },
    "trusted": true
   },
   "outputs": [],
   "source": [
    "predictors,label,max_sequence_len,total_words=generate_sequences(text[:21000])"
   ]
  },
  {
   "cell_type": "code",
   "execution_count": 8,
   "id": "6b13fa9c",
   "metadata": {
    "execution": {
     "iopub.execute_input": "2025-08-09T08:49:45.127645Z",
     "iopub.status.busy": "2025-08-09T08:49:45.127399Z",
     "iopub.status.idle": "2025-08-09T08:49:45.132084Z",
     "shell.execute_reply": "2025-08-09T08:49:45.131188Z",
     "shell.execute_reply.started": "2025-08-09T08:49:45.127626Z"
    },
    "trusted": true
   },
   "outputs": [
    {
     "name": "stdout",
     "output_type": "stream",
     "text": [
      "17\n",
      "19177\n"
     ]
    }
   ],
   "source": [
    "print(max_sequence_len)\n",
    "print(total_words)"
   ]
  },
  {
   "cell_type": "markdown",
   "id": "e7b5146b",
   "metadata": {},
   "source": [
    "**Building the model**"
   ]
  },
  {
   "cell_type": "code",
   "execution_count": 9,
   "id": "9a25c35f",
   "metadata": {
    "execution": {
     "iopub.execute_input": "2025-08-09T08:49:45.133609Z",
     "iopub.status.busy": "2025-08-09T08:49:45.133121Z",
     "iopub.status.idle": "2025-08-09T08:49:46.364367Z",
     "shell.execute_reply": "2025-08-09T08:49:46.363537Z",
     "shell.execute_reply.started": "2025-08-09T08:49:45.133578Z"
    },
    "trusted": true
   },
   "outputs": [
    {
     "data": {
      "text/html": [
       "<pre style=\"white-space:pre;overflow-x:auto;line-height:normal;font-family:Menlo,'DejaVu Sans Mono',consolas,'Courier New',monospace\"><span style=\"font-weight: bold\">Model: \"sequential\"</span>\n",
       "</pre>\n"
      ],
      "text/plain": [
       "\u001b[1mModel: \"sequential\"\u001b[0m\n"
      ]
     },
     "metadata": {},
     "output_type": "display_data"
    },
    {
     "data": {
      "text/html": [
       "<pre style=\"white-space:pre;overflow-x:auto;line-height:normal;font-family:Menlo,'DejaVu Sans Mono',consolas,'Courier New',monospace\">┏━━━━━━━━━━━━━━━━━━━━━━━━━━━━━━━━━┳━━━━━━━━━━━━━━━━━━━━━━━━┳━━━━━━━━━━━━━━━┓\n",
       "┃<span style=\"font-weight: bold\"> Layer (type)                    </span>┃<span style=\"font-weight: bold\"> Output Shape           </span>┃<span style=\"font-weight: bold\">       Param # </span>┃\n",
       "┡━━━━━━━━━━━━━━━━━━━━━━━━━━━━━━━━━╇━━━━━━━━━━━━━━━━━━━━━━━━╇━━━━━━━━━━━━━━━┩\n",
       "│ embedding (<span style=\"color: #0087ff; text-decoration-color: #0087ff\">Embedding</span>)           │ (<span style=\"color: #00d7ff; text-decoration-color: #00d7ff\">None</span>, <span style=\"color: #00af00; text-decoration-color: #00af00\">16</span>, <span style=\"color: #00af00; text-decoration-color: #00af00\">32</span>)         │       <span style=\"color: #00af00; text-decoration-color: #00af00\">613,664</span> │\n",
       "├─────────────────────────────────┼────────────────────────┼───────────────┤\n",
       "│ simple_rnn (<span style=\"color: #0087ff; text-decoration-color: #0087ff\">SimpleRNN</span>)          │ (<span style=\"color: #00d7ff; text-decoration-color: #00d7ff\">None</span>, <span style=\"color: #00af00; text-decoration-color: #00af00\">256</span>)            │        <span style=\"color: #00af00; text-decoration-color: #00af00\">73,984</span> │\n",
       "├─────────────────────────────────┼────────────────────────┼───────────────┤\n",
       "│ dropout (<span style=\"color: #0087ff; text-decoration-color: #0087ff\">Dropout</span>)               │ (<span style=\"color: #00d7ff; text-decoration-color: #00d7ff\">None</span>, <span style=\"color: #00af00; text-decoration-color: #00af00\">256</span>)            │             <span style=\"color: #00af00; text-decoration-color: #00af00\">0</span> │\n",
       "├─────────────────────────────────┼────────────────────────┼───────────────┤\n",
       "│ dense (<span style=\"color: #0087ff; text-decoration-color: #0087ff\">Dense</span>)                   │ (<span style=\"color: #00d7ff; text-decoration-color: #00d7ff\">None</span>, <span style=\"color: #00af00; text-decoration-color: #00af00\">19177</span>)          │     <span style=\"color: #00af00; text-decoration-color: #00af00\">4,928,489</span> │\n",
       "└─────────────────────────────────┴────────────────────────┴───────────────┘\n",
       "</pre>\n"
      ],
      "text/plain": [
       "┏━━━━━━━━━━━━━━━━━━━━━━━━━━━━━━━━━┳━━━━━━━━━━━━━━━━━━━━━━━━┳━━━━━━━━━━━━━━━┓\n",
       "┃\u001b[1m \u001b[0m\u001b[1mLayer (type)                   \u001b[0m\u001b[1m \u001b[0m┃\u001b[1m \u001b[0m\u001b[1mOutput Shape          \u001b[0m\u001b[1m \u001b[0m┃\u001b[1m \u001b[0m\u001b[1m      Param #\u001b[0m\u001b[1m \u001b[0m┃\n",
       "┡━━━━━━━━━━━━━━━━━━━━━━━━━━━━━━━━━╇━━━━━━━━━━━━━━━━━━━━━━━━╇━━━━━━━━━━━━━━━┩\n",
       "│ embedding (\u001b[38;5;33mEmbedding\u001b[0m)           │ (\u001b[38;5;45mNone\u001b[0m, \u001b[38;5;34m16\u001b[0m, \u001b[38;5;34m32\u001b[0m)         │       \u001b[38;5;34m613,664\u001b[0m │\n",
       "├─────────────────────────────────┼────────────────────────┼───────────────┤\n",
       "│ simple_rnn (\u001b[38;5;33mSimpleRNN\u001b[0m)          │ (\u001b[38;5;45mNone\u001b[0m, \u001b[38;5;34m256\u001b[0m)            │        \u001b[38;5;34m73,984\u001b[0m │\n",
       "├─────────────────────────────────┼────────────────────────┼───────────────┤\n",
       "│ dropout (\u001b[38;5;33mDropout\u001b[0m)               │ (\u001b[38;5;45mNone\u001b[0m, \u001b[38;5;34m256\u001b[0m)            │             \u001b[38;5;34m0\u001b[0m │\n",
       "├─────────────────────────────────┼────────────────────────┼───────────────┤\n",
       "│ dense (\u001b[38;5;33mDense\u001b[0m)                   │ (\u001b[38;5;45mNone\u001b[0m, \u001b[38;5;34m19177\u001b[0m)          │     \u001b[38;5;34m4,928,489\u001b[0m │\n",
       "└─────────────────────────────────┴────────────────────────┴───────────────┘\n"
      ]
     },
     "metadata": {},
     "output_type": "display_data"
    },
    {
     "data": {
      "text/html": [
       "<pre style=\"white-space:pre;overflow-x:auto;line-height:normal;font-family:Menlo,'DejaVu Sans Mono',consolas,'Courier New',monospace\"><span style=\"font-weight: bold\"> Total params: </span><span style=\"color: #00af00; text-decoration-color: #00af00\">5,616,137</span> (21.42 MB)\n",
       "</pre>\n"
      ],
      "text/plain": [
       "\u001b[1m Total params: \u001b[0m\u001b[38;5;34m5,616,137\u001b[0m (21.42 MB)\n"
      ]
     },
     "metadata": {},
     "output_type": "display_data"
    },
    {
     "data": {
      "text/html": [
       "<pre style=\"white-space:pre;overflow-x:auto;line-height:normal;font-family:Menlo,'DejaVu Sans Mono',consolas,'Courier New',monospace\"><span style=\"font-weight: bold\"> Trainable params: </span><span style=\"color: #00af00; text-decoration-color: #00af00\">5,616,137</span> (21.42 MB)\n",
       "</pre>\n"
      ],
      "text/plain": [
       "\u001b[1m Trainable params: \u001b[0m\u001b[38;5;34m5,616,137\u001b[0m (21.42 MB)\n"
      ]
     },
     "metadata": {},
     "output_type": "display_data"
    },
    {
     "data": {
      "text/html": [
       "<pre style=\"white-space:pre;overflow-x:auto;line-height:normal;font-family:Menlo,'DejaVu Sans Mono',consolas,'Courier New',monospace\"><span style=\"font-weight: bold\"> Non-trainable params: </span><span style=\"color: #00af00; text-decoration-color: #00af00\">0</span> (0.00 B)\n",
       "</pre>\n"
      ],
      "text/plain": [
       "\u001b[1m Non-trainable params: \u001b[0m\u001b[38;5;34m0\u001b[0m (0.00 B)\n"
      ]
     },
     "metadata": {},
     "output_type": "display_data"
    }
   ],
   "source": [
    "from tensorflow.keras.models import Sequential #type: ignore\n",
    "from tensorflow.keras.layers import Embedding,SimpleRNN,Dense,Dropout #type: ignore \n",
    "\n",
    "\n",
    "input_len=max_sequence_len-1\n",
    "    \n",
    "# Setting up the model \n",
    "    \n",
    "model=Sequential()\n",
    "    \n",
    "# Embedding layer\n",
    "model.add(Embedding(total_words,32,input_length=input_len))\n",
    "    \n",
    "# RNN Layer\n",
    "model.add(SimpleRNN(256))\n",
    "    \n",
    "# Dropout Layer\n",
    "model.add(Dropout(0.2))\n",
    "    \n",
    "# Output Layer \n",
    "model.add(Dense(total_words,activation='softmax')) \n",
    "    \n",
    "model.build(input_shape=(None, input_len))\n",
    "model.compile(loss='categorical_crossentropy',optimizer='adam')    \n",
    "model.summary()\n"
   ]
  },
  {
   "cell_type": "markdown",
   "id": "389eba44",
   "metadata": {},
   "source": [
    "**Setting up the callbacks**"
   ]
  },
  {
   "cell_type": "code",
   "execution_count": 10,
   "id": "f24e76f3",
   "metadata": {
    "execution": {
     "iopub.execute_input": "2025-08-09T08:49:46.365443Z",
     "iopub.status.busy": "2025-08-09T08:49:46.365237Z",
     "iopub.status.idle": "2025-08-09T08:49:46.369259Z",
     "shell.execute_reply": "2025-08-09T08:49:46.368532Z",
     "shell.execute_reply.started": "2025-08-09T08:49:46.365427Z"
    },
    "trusted": true
   },
   "outputs": [],
   "source": [
    "from tensorflow.keras.callbacks import EarlyStopping #type: ignore \n",
    "early_stopping=EarlyStopping(\n",
    "        monitor='training_loss',\n",
    "        patience=5,\n",
    "        restore_best_weights=True\n",
    "    )"
   ]
  },
  {
   "cell_type": "markdown",
   "id": "5c1cc571",
   "metadata": {},
   "source": [
    "**Training the model**\n"
   ]
  },
  {
   "cell_type": "code",
   "execution_count": 11,
   "id": "f7bbe9ec",
   "metadata": {
    "execution": {
     "iopub.execute_input": "2025-08-09T08:49:46.371212Z",
     "iopub.status.busy": "2025-08-09T08:49:46.370914Z",
     "iopub.status.idle": "2025-08-09T09:23:54.721477Z",
     "shell.execute_reply": "2025-08-09T09:23:54.720703Z",
     "shell.execute_reply.started": "2025-08-09T08:49:46.371194Z"
    },
    "trusted": true
   },
   "outputs": [],
   "source": [
    "# hist=model.fit(predictors,label,epochs=200,batch_size=64,callbacks=[early_stopping],verbose=1)"
   ]
  },
  {
   "cell_type": "code",
   "execution_count": 16,
   "id": "6b1e37d2",
   "metadata": {
    "execution": {
     "iopub.execute_input": "2025-08-09T09:23:54.723234Z",
     "iopub.status.busy": "2025-08-09T09:23:54.722865Z",
     "iopub.status.idle": "2025-08-09T09:23:54.729034Z",
     "shell.execute_reply": "2025-08-09T09:23:54.728261Z",
     "shell.execute_reply.started": "2025-08-09T09:23:54.723201Z"
    },
    "trusted": true
   },
   "outputs": [],
   "source": [
    "def generate_text(seed_text, next_words, model, max_sequence_len):\n",
    "    for _ in range(next_words):\n",
    "        token_list = tokenizer.texts_to_sequences([seed_text])[0]\n",
    "        token_list = pad_sequences([token_list], maxlen=max_sequence_len-1, padding='pre')\n",
    "        predicted = np.argmax(model.predict(token_list, verbose=0), axis=-1)[0]\n",
    "        \n",
    "        output_word = \"\"\n",
    "        for word,index in tokenizer.word_index.items():\n",
    "            if index == predicted:\n",
    "                output_word = word\n",
    "                break\n",
    "        seed_text += \" \"+output_word\n",
    "    return seed_text.title()"
   ]
  },
  {
   "cell_type": "code",
   "execution_count": 18,
   "id": "4559576b-4368-4347-9f0c-c700cdba815b",
   "metadata": {
    "execution": {
     "iopub.execute_input": "2025-08-09T09:33:28.707771Z",
     "iopub.status.busy": "2025-08-09T09:33:28.706891Z",
     "iopub.status.idle": "2025-08-09T09:33:29.526504Z",
     "shell.execute_reply": "2025-08-09T09:33:29.525763Z",
     "shell.execute_reply.started": "2025-08-09T09:33:28.707743Z"
    },
    "trusted": true
   },
   "outputs": [
    {
     "name": "stdout",
     "output_type": "stream",
     "text": [
      "Maybe Stocks Conman Safaris Ticketholders Moser Sister Greets Safaris Sonia Philosopher Demystifying Raichur Canon Chattopadhyay Hudson\n"
     ]
    }
   ],
   "source": [
    "print(generate_text(\"maybe\",15,model,max_sequence_len))"
   ]
  },
  {
   "cell_type": "code",
   "execution_count": null,
   "id": "7bdb3534-fbd2-4117-975d-1b509ffbfaeb",
   "metadata": {
    "trusted": true
   },
   "outputs": [],
   "source": []
  }
 ],
 "metadata": {
  "kaggle": {
   "accelerator": "nvidiaTeslaT4",
   "dataSources": [
    {
     "datasetId": 8036562,
     "sourceId": 12715413,
     "sourceType": "datasetVersion"
    }
   ],
   "dockerImageVersionId": 31090,
   "isGpuEnabled": true,
   "isInternetEnabled": true,
   "language": "python",
   "sourceType": "notebook"
  },
  "kernelspec": {
   "display_name": "Text Generation using rnn",
   "language": "python",
   "name": "python3"
  },
  "language_info": {
   "codemirror_mode": {
    "name": "ipython",
    "version": 3
   },
   "file_extension": ".py",
   "mimetype": "text/x-python",
   "name": "python",
   "nbconvert_exporter": "python",
   "pygments_lexer": "ipython3",
   "version": "3.11.13"
  }
 },
 "nbformat": 4,
 "nbformat_minor": 5
}
