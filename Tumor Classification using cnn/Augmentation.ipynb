{
 "cells": [
  {
   "cell_type": "markdown",
   "metadata": {},
   "source": [
    "**Objective:** To perform Data Augmentation to increase the size of the training data"
   ]
  },
  {
   "cell_type": "markdown",
   "metadata": {},
   "source": [
    "**Importing the necessary modules**"
   ]
  },
  {
   "cell_type": "code",
   "execution_count": 5,
   "metadata": {},
   "outputs": [],
   "source": [
    "import tensorflow as tf\n",
    "from tensorflow.keras.preprocessing.image import ImageDataGenerator \n",
    "import cv2\n",
    "import imutils\n",
    "import matplotlib.pyplot as plt \n",
    "%matplotlib inline\n",
    "from os import listdir\n",
    "import time "
   ]
  },
  {
   "cell_type": "markdown",
   "metadata": {},
   "source": [
    "**Creating a time function to check how much time it is taking to generate the images** \n",
    "\n",
    "This function takes the number of seconds that have elapsed and formats it into a proper hms format "
   ]
  },
  {
   "cell_type": "code",
   "execution_count": 6,
   "metadata": {},
   "outputs": [],
   "source": [
    "def time_str(t_elap):\n",
    "    hrs=int(t_elap/3600) # to get number of hours\n",
    "    min_=int((t_elap%3600)/60) #minutes are calculated from the seconds left after accounting for full hours\n",
    "    sec_=int(t_elap%60) #seconds are calculated from the time left after accounting for full minutes \n",
    "    \n",
    "    return f\"{hrs}:{min_}:{sec_}\""
   ]
  },
  {
   "cell_type": "markdown",
   "metadata": {},
   "source": [
    "**Creating a function to perform data augmentation**"
   ]
  },
  {
   "cell_type": "code",
   "execution_count": 7,
   "metadata": {},
   "outputs": [],
   "source": [
    "def augmentation(dir,n_samples,save_dir):\n",
    "    \n",
    "    # dir is the path in a string format , where the original images are found \n",
    "    # n_samples are the number of samples to create for each image present in the dir path \n",
    "    # save_dir is the path in a string format , where the augmented images are to be stored. \n",
    "    \n",
    "    \n",
    "    \n",
    "    data_aug=ImageDataGenerator(rotation_range=15,width_shift_range=0.05,height_shift_range=0.1,shear_range=0.1,\n",
    "                                brightness_range=(0.7,1.1),horizontal_flip=True,vertical_flip=True,\n",
    "                                fill_mode=\"nearest\")\n",
    "    \n",
    "    # These are the parameters by which the augmented image shifts from the original\n",
    "    \n",
    "    # Most of them have not been changed as this is a medical dataset and slight distortions in the image can affect the performance of the model drastically \n",
    "    \n",
    "    \n",
    "    for file in listdir(dir):\n",
    "        img=cv2.imread(dir+\"\\\\\"+file) #loading the images from the directody \n",
    "        \n",
    "        img=img.reshape((1,)+img.shape) #Changing the shape of images \n",
    "        \n",
    "        prefix='aug_' + file[:-4] #adding a prefixx to the name of the original image to save the augmented ones \n",
    "        \n",
    "        # Generating the augmented samples\n",
    "        i=0\n",
    "        \n",
    "        \n",
    "        for batch in data_aug.flow(x=img,batch_size=1,save_to_dir=save_dir,save_prefix=prefix,save_format=\".jpg\"):\n",
    "            \n",
    "            # data_aug.flow generates augmented images based on the pararmeters we defined before \n",
    "            i+=1\n",
    "            \n",
    "            if i > n_samples:\n",
    "                break \n",
    "        "
   ]
  },
  {
   "cell_type": "markdown",
   "metadata": {},
   "source": [
    "**Running the function and generating the images**"
   ]
  },
  {
   "cell_type": "code",
   "execution_count": 8,
   "metadata": {},
   "outputs": [
    {
     "name": "stdout",
     "output_type": "stream",
     "text": [
      "Total time elaspsed: 0:1:26\n"
     ]
    }
   ],
   "source": [
    "start=time.time() #To get the current time when the fucniton is running \n",
    "\n",
    "aug_data_path=r\"Augmented Data/\"\n",
    "\n",
    "# Augmenting data present in the yes folder\n",
    "\n",
    "augmentation(dir=r\"Preprocessed Data\\Yes\",n_samples=15,save_dir=aug_data_path+'yes')\n",
    "\n",
    "# Augmenting the data present in the no folder\n",
    "\n",
    "augmentation(dir=r\"Preprocessed Data\\No\",n_samples=25,save_dir=aug_data_path+'no')\n",
    "\n",
    "end=time.time()\n",
    "\n",
    "e_time=(end-start)\n",
    "\n",
    "print(f\"Total time elaspsed: {time_str(e_time)}\")"
   ]
  },
  {
   "cell_type": "code",
   "execution_count": 9,
   "metadata": {},
   "outputs": [],
   "source": [
    "def summary(path):\n",
    "    yes=path+'yes'\n",
    "    no=path+'no'\n",
    "    \n",
    "    # Total number of yes samples\n",
    "    y_samples=len(listdir(yes))\n",
    "    \n",
    "    # Total numbr of no samples\n",
    "    \n",
    "    n_samples=len(listdir(no))\n",
    "    \n",
    "    # Total samples\n",
    "    \n",
    "    t_samples=(y_samples+n_samples) \n",
    "    \n",
    "    pos_prec = (y_samples* 100.0)/ t_samples\n",
    "    neg_prec = (n_samples* 100.0)/ t_samples \n",
    "    \n",
    "    \n",
    "    print(f\"Total Number of samples: {t_samples}\")\n",
    "    print(f\"Percentage of positive examples: {pos_prec}%, number of pos examples: {y_samples}\") \n",
    "    print(f\"Percentage of negative examples: {neg_prec}%, number of neg examples: {n_samples}\") "
   ]
  },
  {
   "cell_type": "code",
   "execution_count": 10,
   "metadata": {},
   "outputs": [
    {
     "name": "stdout",
     "output_type": "stream",
     "text": [
      "Total Number of samples: 10117\n",
      "Percentage of positive examples: 49.74794899673817%, number of pos examples: 5033\n",
      "Percentage of negative examples: 50.25205100326183%, number of neg examples: 5084\n"
     ]
    }
   ],
   "source": [
    "summary(aug_data_path)"
   ]
  }
 ],
 "metadata": {
  "kernelspec": {
   "display_name": "venv",
   "language": "python",
   "name": "python3"
  },
  "language_info": {
   "codemirror_mode": {
    "name": "ipython",
    "version": 3
   },
   "file_extension": ".py",
   "mimetype": "text/x-python",
   "name": "python",
   "nbconvert_exporter": "python",
   "pygments_lexer": "ipython3",
   "version": "3.12.5"
  }
 },
 "nbformat": 4,
 "nbformat_minor": 2
}
